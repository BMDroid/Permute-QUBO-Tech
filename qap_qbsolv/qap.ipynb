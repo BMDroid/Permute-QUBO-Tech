{
 "cells": [
  {
   "cell_type": "code",
   "execution_count": 27,
   "id": "07fc3aa1",
   "metadata": {
    "ExecuteTime": {
     "end_time": "2021-09-03T15:15:46.309903Z",
     "start_time": "2021-09-03T15:15:46.292022Z"
    }
   },
   "outputs": [],
   "source": [
    "import pickle\n",
    "import numpy as np\n",
    "import itertools\n",
    "import time\n",
    "\n",
    "from qap import *\n",
    "from builder_qap import *\n",
    "from glob import glob\n",
    "from pathlib import Path"
   ]
  },
  {
   "cell_type": "code",
   "execution_count": 28,
   "id": "9e8a1828",
   "metadata": {
    "ExecuteTime": {
     "end_time": "2021-09-03T15:15:47.053345Z",
     "start_time": "2021-09-03T15:15:47.050498Z"
    }
   },
   "outputs": [],
   "source": [
    "def check_symmetric(a, rtol=1e-05, atol=1e-08):\n",
    "    return np.allclose(a, a.T, rtol=rtol, atol=atol)"
   ]
  },
  {
   "cell_type": "markdown",
   "id": "b7cc4af9",
   "metadata": {},
   "source": [
    "# instance parser"
   ]
  },
  {
   "cell_type": "code",
   "execution_count": 29,
   "id": "d2af1fa8",
   "metadata": {
    "ExecuteTime": {
     "end_time": "2021-09-03T15:15:47.647894Z",
     "start_time": "2021-09-03T15:15:47.641537Z"
    }
   },
   "outputs": [],
   "source": [
    "def parse_qap(fileName):\n",
    "    with open(fileName, \"r\") as f:\n",
    "        lines = list(filter(None, (line.rstrip() for line in f)))\n",
    "    n = int(lines[0])\n",
    "    a = sum([list(map(int, line.split())) for line in lines[1:]], [])\n",
    "    d = np.array(a[:n**2]).reshape(n, n).astype(int)\n",
    "    f = np.array(a[n**2:]).reshape(n, n).astype(int)\n",
    "    return n, d, f"
   ]
  },
  {
   "cell_type": "code",
   "execution_count": 30,
   "id": "5235d86a",
   "metadata": {
    "ExecuteTime": {
     "end_time": "2021-09-03T15:15:47.788462Z",
     "start_time": "2021-09-03T15:15:47.785821Z"
    }
   },
   "outputs": [],
   "source": [
    "# fileName = './data/QAP/kra30a.dat'\n",
    "# n, d, f = parse_qap(fileName)\n",
    "# print(n)"
   ]
  },
  {
   "cell_type": "markdown",
   "id": "372ba4c5",
   "metadata": {},
   "source": [
    "## parse benchmark instances and add new constraints"
   ]
  },
  {
   "cell_type": "code",
   "execution_count": 31,
   "id": "1a28cf2a",
   "metadata": {
    "ExecuteTime": {
     "end_time": "2021-09-03T15:15:48.277007Z",
     "start_time": "2021-09-03T15:15:48.274092Z"
    }
   },
   "outputs": [],
   "source": [
    "# for file in sorted(glob('./data/Test/*.dat')):\n",
    "#     print(file)\n",
    "#     n, d, f = parse_qap(file)\n",
    "#     inst = QAP(d, f, True)\n",
    "#     with open('./data/Test/{}.pk'.format(Path(file).stem), 'wb') as f2:\n",
    "#         pickle.dump(inst, f2)"
   ]
  },
  {
   "cell_type": "markdown",
   "id": "c785617b",
   "metadata": {},
   "source": [
    "## save qubo as npy"
   ]
  },
  {
   "cell_type": "code",
   "execution_count": 36,
   "id": "ce24324d",
   "metadata": {
    "ExecuteTime": {
     "end_time": "2021-09-04T08:40:50.018367Z",
     "start_time": "2021-09-04T03:41:33.083999Z"
    }
   },
   "outputs": [
    {
     "name": "stdout",
     "output_type": "stream",
     "text": [
      "./data/Left/tai150b.dat\n",
      "2998.4897260665894\n",
      "5667.881362915039\n",
      "8416.587344169617\n",
      "8911.433782100677\n",
      "./data/Left/tho150.dat\n",
      "3060.647848844528\n",
      "5746.773227930069\n",
      "8540.830796957016\n",
      "9035.856069087982\n"
     ]
    }
   ],
   "source": [
    "for fileName in sorted(glob('./data/Left/*.dat')):\n",
    "    print(fileName)\n",
    "    start = time.time()\n",
    "    with open(fileName, 'rb') as file:\n",
    "        n, d, f = parse_qap(fileName)\n",
    "    qap = QAP(d, f, True)\n",
    "    with open('./data/Left/{}.pk'.format(Path(fileName).stem), 'wb') as f:\n",
    "        pickle.dump(qap, f)\n",
    "    print(time.time() - start)\n",
    "    con1 = build_qap_row_sum(qap).array.astype(np.float64)\n",
    "    print(time.time() - start)\n",
    "    with open('./data/Left/{}-con1.npy'.format(Path(fileName).stem), 'wb') as f1:\n",
    "        np.save(f1, con1, allow_pickle=True)\n",
    "    con2 = build_qap_col_sum(qap).array.astype(np.float64)\n",
    "    print(time.time() - start)\n",
    "    with open('./data/Left/{}-con2.npy'.format(Path(fileName).stem), 'wb') as f2:\n",
    "        np.save(f2, con2, allow_pickle=True)\n",
    "    obj = build_qap_obj(qap).array.astype(np.float64)\n",
    "    print(time.time() - start)\n",
    "    with open('./data/Left/{}-obj.npy'.format(Path(fileName).stem), 'wb') as f3:\n",
    "        np.save(f3, obj, allow_pickle=True)"
   ]
  },
  {
   "cell_type": "markdown",
   "id": "1ecb8fc5",
   "metadata": {},
   "source": [
    "## save npy to float64"
   ]
  },
  {
   "cell_type": "code",
   "execution_count": 8,
   "id": "8a052853",
   "metadata": {
    "ExecuteTime": {
     "end_time": "2021-09-03T14:16:54.171454Z",
     "start_time": "2021-09-03T14:12:52.349894Z"
    }
   },
   "outputs": [
    {
     "name": "stdout",
     "output_type": "stream",
     "text": [
      "./data/npy/lipa90a-con1.npy\n",
      "float64\n",
      "./data/npy/lipa90a-con2.npy\n",
      "float64\n",
      "./data/npy/lipa90a-obj.npy\n",
      "float64\n",
      "./data/npy/lipa90b-con1.npy\n",
      "float64\n",
      "./data/npy/lipa90b-con2.npy\n",
      "float64\n",
      "./data/npy/lipa90b-obj.npy\n",
      "float64\n",
      "./data/npy/sko100a-con1.npy\n",
      "float64\n",
      "./data/npy/sko100a-con2.npy\n",
      "float64\n",
      "./data/npy/sko100a-obj.npy\n",
      "float64\n",
      "./data/npy/sko100b-con1.npy\n",
      "float64\n",
      "./data/npy/sko100b-con2.npy\n",
      "float64\n",
      "./data/npy/sko100b-obj.npy\n",
      "float64\n",
      "./data/npy/sko100c-con1.npy\n",
      "float64\n",
      "./data/npy/sko100c-con2.npy\n",
      "float64\n",
      "./data/npy/sko100c-obj.npy\n",
      "float64\n",
      "./data/npy/sko100d-con1.npy\n",
      "float64\n",
      "./data/npy/sko100d-con2.npy\n",
      "float64\n",
      "./data/npy/sko100d-obj.npy\n",
      "float64\n",
      "./data/npy/sko100e-con1.npy\n",
      "float64\n",
      "./data/npy/sko100e-con2.npy\n",
      "float64\n",
      "./data/npy/sko100e-obj.npy\n",
      "float64\n",
      "./data/npy/sko100f-con1.npy\n",
      "float64\n",
      "./data/npy/sko100f-con2.npy\n",
      "float64\n",
      "./data/npy/sko100f-obj.npy\n",
      "float64\n",
      "./data/npy/sko90-con1.npy\n",
      "float64\n",
      "./data/npy/sko90-con2.npy\n",
      "float64\n",
      "./data/npy/sko90-obj.npy\n",
      "float64\n"
     ]
    }
   ],
   "source": [
    "for fileName in sorted(glob('./data/npy/*.npy')):\n",
    "    print(fileName)\n",
    "    with open(fileName, 'rb') as file:\n",
    "        npy = np.load(file)\n",
    "    npy = npy.astype(np.float64)\n",
    "    print(npy.dtype)\n",
    "    with open('./data/npy64/{}.npy'.format(Path(fileName).stem), 'wb') as f:\n",
    "        np.save(f, npy, allow_pickle=True)"
   ]
  },
  {
   "cell_type": "code",
   "execution_count": null,
   "id": "43944c47",
   "metadata": {},
   "outputs": [],
   "source": []
  }
 ],
 "metadata": {
  "kernelspec": {
   "display_name": "Python 3 (ipykernel)",
   "language": "python",
   "name": "python3"
  },
  "language_info": {
   "codemirror_mode": {
    "name": "ipython",
    "version": 3
   },
   "file_extension": ".py",
   "mimetype": "text/x-python",
   "name": "python",
   "nbconvert_exporter": "python",
   "pygments_lexer": "ipython3",
   "version": "3.8.11"
  },
  "toc": {
   "base_numbering": 1,
   "nav_menu": {},
   "number_sections": true,
   "sideBar": true,
   "skip_h1_title": false,
   "title_cell": "Table of Contents",
   "title_sidebar": "Contents",
   "toc_cell": false,
   "toc_position": {},
   "toc_section_display": true,
   "toc_window_display": false
  }
 },
 "nbformat": 4,
 "nbformat_minor": 5
}
