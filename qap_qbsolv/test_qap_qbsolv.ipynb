{
 "cells": [
  {
   "cell_type": "code",
   "execution_count": null,
   "id": "859eae67",
   "metadata": {
    "ExecuteTime": {
     "end_time": "2021-09-06T13:42:38.307363Z",
     "start_time": "2021-09-06T13:42:33.212646Z"
    }
   },
   "outputs": [],
   "source": [
    "# from __future__ import print_function\n",
    "import sys\n",
    "if sys.version_info[0] == 3:\n",
    "    import lzma\n",
    "    long = int\n",
    "else:\n",
    "    from backports import lzma\n",
    "import numpy as np\n",
    "    \n",
    "from qpoly import *\n",
    "from builder_qap import *\n",
    "from solver_qap_qbsolv import *\n",
    "from tuner_qap_qbsolv import *\n",
    "from sequence import *\n",
    "from tsp import *\n",
    "from asgmt import *\n",
    "from max_cut import *\n",
    "from qap import *"
   ]
  },
  {
   "cell_type": "markdown",
   "id": "4dac0193",
   "metadata": {},
   "source": [
    "# DA"
   ]
  },
  {
   "cell_type": "code",
   "execution_count": null,
   "id": "ae7f57ae",
   "metadata": {
    "ExecuteTime": {
     "start_time": "2021-09-06T13:42:42.352Z"
    }
   },
   "outputs": [],
   "source": [
    "# Optuna\n",
    "bounds = {'min': [1e-2, 1e-2], 'max': [2.5e-2, 2.5e-2]}\n",
    "parameters = {}\n",
    "parameters[\"perturbed\"] = True\n",
    "parameters['base'] = 'max_product'\n",
    "parameters['fixed'], parameters['mixed'] = False, 1\n",
    "parameters['max_evals'] = 3\n",
    "parameters['num_run'], parameters['num_iteration'] = 72, [10**7] * (parameters['max_evals'] + 1)\n",
    "parameters['reg'] = 0\n",
    "parameters['reg_coef'] = [1, 1]\n",
    "parameters['comb'], parameters['folder_path'], parameters['setting_path'], parameters['info_path'] = get_results_path(f\"test_da_qap_optuna_min{bounds['min'][0]}_max{bounds['max'][0]}_{len(bounds['min'])}b_zero\", parameters)\n",
    "main_qap('./data/Large/lipa90a.pk', optune, bounds, parameters, solve_min_qap_config_qbsolv_da, prep_config_zero)"
   ]
  },
  {
   "cell_type": "markdown",
   "id": "e9298ff5",
   "metadata": {},
   "source": [
    "# SA"
   ]
  },
  {
   "cell_type": "markdown",
   "id": "0d2ca043",
   "metadata": {},
   "source": [
    "## Full"
   ]
  },
  {
   "cell_type": "code",
   "execution_count": null,
   "id": "4d930557",
   "metadata": {},
   "outputs": [],
   "source": [
    "# Optuna\n",
    "bounds = {'min': [1e-2, 1e-2], 'max': [2e-2, 2e-2]}\n",
    "parameters = {}\n",
    "parameters[\"perturbed\"] = True\n",
    "parameters['base'] = 'max_product'\n",
    "parameters['fixed'], parameters['mixed'] = False, 1\n",
    "parameters['max_evals'] = 20\n",
    "parameters['num_run'], parameters['num_iteration'] = 72, [10**7] * (parameters['max_evals'] + 1)\n",
    "parameters['reg'] = 0\n",
    "parameters['reg_coef'] = [1, 1]\n",
    "parameters['comb'], parameters['folder_path'], parameters['setting_path'], parameters['info_path'] = get_results_path(f\"neal_qap_optuna_min{bounds['min'][0]}_max{bounds['max'][0]}_{len(bounds['min'])}b_zero\", parameters)\n",
    "main_qap('./data/Test/lipa90a.pk', optune, bounds, parameters, solve_min_qap_config_qbsolv, prep_config_zero)"
   ]
  },
  {
   "cell_type": "code",
   "execution_count": null,
   "id": "dff5b6eb",
   "metadata": {
    "ExecuteTime": {
     "end_time": "2021-08-30T11:27:30.940875Z",
     "start_time": "2021-08-30T11:26:35.300989Z"
    }
   },
   "outputs": [],
   "source": [
    "# Optuna\n",
    "bounds = {'min': [1e-2, 1e-2], 'max': [2.5e-2, 2.5e-2]}\n",
    "parameters = {}\n",
    "parameters[\"perturbed\"] = False\n",
    "parameters['base'] = 'max_product'\n",
    "parameters['fixed'], parameters['mixed'] = False, 1\n",
    "parameters['max_evals'] = 3\n",
    "parameters['num_run'], parameters['num_iteration'] = 72, [10**7] * (parameters['max_evals'] + 1)\n",
    "parameters['reg'] = 0\n",
    "parameters['reg_coef'] = [1, 1]\n",
    "parameters['comb'], parameters['folder_path'], parameters['setting_path'], parameters['info_path'] = get_results_path(f\"test_qap_optuna_min{bounds['min'][0]}_max{bounds['max'][0]}_{len(bounds['min'])}b_zero\", parameters)\n",
    "main_qap('./data/QAP/nug30.dat', optune, bounds, parameters, solve_min_qap_config_qbsolv, prep_config_zero)"
   ]
  },
  {
   "cell_type": "code",
   "execution_count": null,
   "id": "c3c2c00d",
   "metadata": {
    "ExecuteTime": {
     "end_time": "2021-08-30T12:46:05.515774Z",
     "start_time": "2021-08-30T12:43:54.582402Z"
    }
   },
   "outputs": [],
   "source": [
    "# Hyperopt\n",
    "bounds = {'min': [1e-2, 1e-2], 'max': [2e-2, 2e-2]}\n",
    "parameters = {}\n",
    "parameters[\"perturbed\"] = False\n",
    "parameters['base'] = 'max_product'\n",
    "parameters['fixed'], parameters['mixed'] = False, 1\n",
    "parameters['max_evals'] = 20\n",
    "parameters['num_run'], parameters['num_iteration'] = 72, [10**7] * (parameters['max_evals'] + 1)\n",
    "parameters['reg'] = 0\n",
    "parameters['reg_coef'] = [1, 1]\n",
    "parameters['comb'], parameters['folder_path'], parameters['setting_path'], parameters['info_path'] = get_results_path(f\"qap_hyperopt_min{bounds['min'][0]}_max{bounds['max'][0]}_{len(bounds['min'])}b_zero\", parameters)\n",
    "main_qap('./data/QAP/nug30.dat', hyperopt, bounds, parameters, solve_min_qap_config_qbsolv, prep_config_zero)"
   ]
  },
  {
   "cell_type": "code",
   "execution_count": null,
   "id": "e4306518",
   "metadata": {
    "ExecuteTime": {
     "end_time": "2021-08-30T12:40:57.108527Z",
     "start_time": "2021-08-30T12:35:36.858167Z"
    }
   },
   "outputs": [],
   "source": [
    "# PSO\n",
    "bounds = {'min': [1e-2, 1e-2], 'max': [2e-2, 2e-2]}\n",
    "parameters = {\n",
    "    'w0': 0.6,\n",
    "    'c10': 0.6,\n",
    "    'c20': 0.82,\n",
    "    'w': 0.42,\n",
    "    'c1': 0.2,\n",
    "    'c2': 0.2,\n",
    "    'ini': 0\n",
    "}\n",
    "\n",
    "parameters[\"perturbed\"] = False\n",
    "parameters['base'] = 'max_product'\n",
    "parameters['U'], parameters['topo'] = True, 'Ring'\n",
    "parameters['fixed'], parameters['mixed'] = False, 1\n",
    "parameters['population_size'], parameters['max_evals'] = 10, 6\n",
    "parameters['num_run'], parameters['num_iteration'] = 72, [10**7] * (parameters['max_evals'] + 1)\n",
    "parameters['reg'] = 0\n",
    "parameters['reg_coef'] = [1, 1]\n",
    "parameters['comb'], parameters['folder_path'], parameters['setting_path'], parameters['info_path'] = get_results_path(f\"qap_pso_ini_ring_min{bounds['min'][0]}_max{bounds['max'][0]}_{len(bounds['min'])}b_zero\", parameters)\n",
    "main_qap('./data/QAP/nug30.dat', pso_ini, bounds, parameters, solve_min_qap_config_qbsolv, prep_config_zero)"
   ]
  },
  {
   "cell_type": "markdown",
   "id": "0785306f",
   "metadata": {},
   "source": [
    "## Clustering"
   ]
  },
  {
   "cell_type": "code",
   "execution_count": null,
   "id": "6aaa50b9",
   "metadata": {
    "ExecuteTime": {
     "end_time": "2021-08-30T12:18:17.487519Z",
     "start_time": "2021-08-30T11:56:02.295195Z"
    }
   },
   "outputs": [],
   "source": [
    "bounds = {'min': [1e-2, 1e-2], 'max': [2.5e-2, 2.5e-2]}\n",
    "parameters = {}\n",
    "parameters[\"perturbed\"] = True\n",
    "parameters['base'] = 'max_product'\n",
    "parameters['sta'], parameters['n_clusters'] = 'sum', 5\n",
    "\n",
    "parameters['fixed'], parameters['mixed'] = False, 1\n",
    "parameters['max_evals'] = 10\n",
    "parameters['num_run'], parameters['num_iteration'] = 72, [10**7] * (parameters['max_evals'] + 1)\n",
    "parameters['reg'] = 0\n",
    "parameters['reg_coef'] = [1, 1]\n",
    "parameters['comb'], parameters['folder_path'], parameters['setting_path'], parameters['info_path'] = get_results_path(f\"perturbed_cluster_qap_optuna_min{bounds['min'][0]}_max{bounds['max'][0]}_{len(bounds['min'])}b_zero\", parameters)\n",
    "main_qap_clustering('./data/QAP/Sko100b.dat', optune, bounds, parameters, solve_min_qap_config_qbsolv, prep_config_zero)"
   ]
  }
 ],
 "metadata": {
  "kernelspec": {
   "display_name": "FJDA",
   "language": "python",
   "name": "fjda"
  },
  "language_info": {
   "codemirror_mode": {
    "name": "ipython",
    "version": 3
   },
   "file_extension": ".py",
   "mimetype": "text/x-python",
   "name": "python",
   "nbconvert_exporter": "python",
   "pygments_lexer": "ipython3",
   "version": "3.7.11"
  },
  "toc": {
   "base_numbering": 1,
   "nav_menu": {},
   "number_sections": true,
   "sideBar": true,
   "skip_h1_title": false,
   "title_cell": "Table of Contents",
   "title_sidebar": "Contents",
   "toc_cell": false,
   "toc_position": {},
   "toc_section_display": true,
   "toc_window_display": false
  }
 },
 "nbformat": 4,
 "nbformat_minor": 5
}
