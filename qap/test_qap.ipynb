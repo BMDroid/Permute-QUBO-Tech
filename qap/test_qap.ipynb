{
 "cells": [
  {
   "cell_type": "code",
   "execution_count": null,
   "id": "ddcb8d76",
   "metadata": {
    "ExecuteTime": {
     "end_time": "2021-09-04T17:40:26.565038Z",
     "start_time": "2021-09-04T17:40:24.448063Z"
    }
   },
   "outputs": [],
   "source": [
    "from __future__ import print_function\n",
    "import sys\n",
    "if sys.version_info[0] == 3:\n",
    "    import lzma\n",
    "    long = int\n",
    "else:\n",
    "    from backports import lzma\n",
    "import numpy as np\n",
    "    \n",
    "from qpoly import *\n",
    "from builder_qap import *\n",
    "from solver_qap import *\n",
    "from tuner_qap import *\n",
    "from sequence import *\n",
    "from tsp import *\n",
    "from asgmt import *\n",
    "from max_cut import *\n",
    "from qap import *"
   ]
  },
  {
   "cell_type": "markdown",
   "id": "c1270669",
   "metadata": {},
   "source": [
    "#  1d clustering"
   ]
  },
  {
   "cell_type": "code",
   "execution_count": null,
   "id": "843a7ec8",
   "metadata": {
    "ExecuteTime": {
     "end_time": "2021-09-04T17:46:43.572194Z",
     "start_time": "2021-09-04T17:40:27.635010Z"
    }
   },
   "outputs": [],
   "source": [
    "# Optuna\n",
    "bounds = {'min': [1e-11, 1e-11], 'max': [2.5e-11, 2.5e-11]}\n",
    "parameters = {}\n",
    "parameters[\"perturbed\"] = False\n",
    "parameters['base'] = 'max_product'\n",
    "parameters['fixed'], parameters['mixed'] = False, 1\n",
    "parameters['max_evals'] = 3\n",
    "parameters['num_run'], parameters['num_iteration'] = 72, [10**7] * (parameters['max_evals'] + 1)\n",
    "parameters['reg'] = 0\n",
    "parameters['reg_coef'] = [1, 1]\n",
    "parameters['comb'], parameters['folder_path'], parameters['setting_path'], parameters['info_path'] = get_results_path(f\"test_cluster_qap_optuna_min{bounds['min'][0]}_max{bounds['max'][0]}_{len(bounds['min'])}b_zero\", parameters)\n",
    "main_qap('./data/Large/lipa90a.dat', optune, bounds, parameters, solve_min_qap_config_qbsolv, prep_config_zero)"
   ]
  },
  {
   "cell_type": "markdown",
   "id": "43a3f2b1",
   "metadata": {},
   "source": [
    "# 3d clustering"
   ]
  },
  {
   "cell_type": "code",
   "execution_count": null,
   "id": "ec91cc68",
   "metadata": {},
   "outputs": [],
   "source": [
    "bounds = {'min': [0.5, 0.5], 'max': [1, 1]}\n",
    "parameters = {}\n",
    "parameters[\"perturbed\"] = False\n",
    "parameters['base'] = 'max_product'\n",
    "parameters['sta'], parameters['n_clusters'] = 'sum', 2\n",
    "\n",
    "parameters['fixed'], parameters['mixed'] = False, 1\n",
    "parameters['max_evals'] = 10\n",
    "parameters['num_run'], parameters['num_iteration'] = 72, [10**7] * (parameters['max_evals'] + 1)\n",
    "parameters['reg'] = 0\n",
    "parameters['reg_coef'] = [1, 1]\n",
    "parameters['comb'], parameters['folder_path'], parameters['setting_path'], parameters['info_path'] = get_results_path(f\"test_cluster_qap_optuna_min{bounds['min'][0]}_max{bounds['max'][0]}_{len(bounds['min'])}b_zero\", parameters)\n",
    "main_qap('./data/Large/lipa90a.dat', optune, bounds, parameters, solve_min_qap_config_qbsolv, prep_config_zero)"
   ]
  }
 ],
 "metadata": {
  "kernelspec": {
   "display_name": "FJDA",
   "language": "python",
   "name": "fjda"
  },
  "language_info": {
   "codemirror_mode": {
    "name": "ipython",
    "version": 3
   },
   "file_extension": ".py",
   "mimetype": "text/x-python",
   "name": "python",
   "nbconvert_exporter": "python",
   "pygments_lexer": "ipython3",
   "version": "3.7.11"
  },
  "toc": {
   "base_numbering": 1,
   "nav_menu": {},
   "number_sections": true,
   "sideBar": true,
   "skip_h1_title": false,
   "title_cell": "Table of Contents",
   "title_sidebar": "Contents",
   "toc_cell": false,
   "toc_position": {},
   "toc_section_display": true,
   "toc_window_display": false
  }
 },
 "nbformat": 4,
 "nbformat_minor": 5
}
