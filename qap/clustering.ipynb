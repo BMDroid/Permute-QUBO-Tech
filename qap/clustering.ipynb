{
 "cells": [
  {
   "cell_type": "code",
   "execution_count": 122,
   "id": "855bf54f",
   "metadata": {
    "ExecuteTime": {
     "end_time": "2021-09-05T04:23:13.638630Z",
     "start_time": "2021-09-05T04:23:13.633749Z"
    }
   },
   "outputs": [],
   "source": [
    "import numpy as np\n",
    "import pickle\n",
    "import math\n",
    "import random\n",
    "\n",
    "from qap import *\n",
    "from sklearn.cluster import KMeans\n",
    "from sklearn.cluster import AgglomerativeClustering\n",
    "from sklearn import preprocessing"
   ]
  },
  {
   "cell_type": "code",
   "execution_count": 114,
   "id": "a889856b",
   "metadata": {
    "ExecuteTime": {
     "end_time": "2021-09-04T20:05:07.599115Z",
     "start_time": "2021-09-04T20:05:07.589355Z"
    }
   },
   "outputs": [],
   "source": [
    "def parse(fileName):\n",
    "    with open(fileName, \"r\") as f:\n",
    "        lines = list(filter(None, (line.rstrip() for line in f)))\n",
    "        n = int(lines[0])\n",
    "        a = sum([list(map(int, line.split())) for line in lines[1:]], [])\n",
    "        d = np.array(a[:n**2]).reshape(n, n).astype(int)\n",
    "        f = np.array(a[n**2:]).reshape(n, n).astype(int)\n",
    "    return n, d, f"
   ]
  },
  {
   "cell_type": "code",
   "execution_count": 115,
   "id": "2b6dc520",
   "metadata": {
    "ExecuteTime": {
     "end_time": "2021-09-04T20:05:08.230628Z",
     "start_time": "2021-09-04T20:05:08.166173Z"
    }
   },
   "outputs": [],
   "source": [
    "fileName = \"./data/Large/lipa90a.dat\"\n",
    "n, d, f = parse(fileName)\n",
    "# inst = QAP(d, f, True)"
   ]
  },
  {
   "cell_type": "code",
   "execution_count": 119,
   "id": "a3d17a4c",
   "metadata": {
    "ExecuteTime": {
     "end_time": "2021-09-04T20:05:21.499385Z",
     "start_time": "2021-09-04T20:05:21.486698Z"
    }
   },
   "outputs": [],
   "source": [
    "def cal_product(n, d, f, sta):\n",
    "    if sta == 'mean':\n",
    "        f_m = [np.mean(f[i]) for i in range(n)]\n",
    "        d_m = [np.mean(d[i]) for i in range(n)]\n",
    "    elif sta == 'median':\n",
    "        f_m = [np.median(f[i]) for i in range(n)]\n",
    "        d_m = [np.median(d[i]) for i in range(n)]\n",
    "    else:\n",
    "        f_m = [np.sum(f[i]) for i in range(n)]\n",
    "        d_m = [np.sum(d[i]) for i in range(n)]\n",
    "    f_order = list(np.argsort(f_m))[::-1]\n",
    "    d_order = np.argsort(d_m)\n",
    "    products = []\n",
    "    pairs = []\n",
    "    for i in range(n):\n",
    "        products.append(f_m[f_order[i]] * d_m[d_order[i]])\n",
    "        pairs.append((f_order[i], d_order[i]))\n",
    "    return products, pairs\n",
    "    \n",
    "def create_cluster(n, d, f, sta, n_clusters):\n",
    "    products, pairs = cal_product(n, d, f, sta)\n",
    "    X = np.array(products).reshape(n, 1)\n",
    "#     clustering = KMeans(n_clusters=n_clusters, random_state=0).fit(X)\n",
    "    clustering = AgglomerativeClustering(n_clusters=n_clusters).fit(X)\n",
    "    labels = clustering.labels_\n",
    "    print(labels)\n",
    "    clusters = []\n",
    "    for i in range(n_clusters):\n",
    "        index = np.where(labels==i)[0].tolist()\n",
    "        if len(index) > 40:\n",
    "            # k = len(index) // 30\n",
    "            k = math.ceil(len(index) / 30)\n",
    "            for j in range(k):\n",
    "                if j != k - 1:\n",
    "                    sub_index = index[j*30:(j+1)*30]\n",
    "                    clusters.append([pairs[x] for x in sub_index])\n",
    "                else:\n",
    "                    sub_index = index[j*30:]\n",
    "                    clusters.append([pairs[x] for x in sub_index])\n",
    "        else:\n",
    "            clusters.append([pairs[x] for x in index])\n",
    "    return clusters"
   ]
  },
  {
   "cell_type": "code",
   "execution_count": 117,
   "id": "dc5229b5",
   "metadata": {
    "ExecuteTime": {
     "end_time": "2021-09-04T20:05:09.518906Z",
     "start_time": "2021-09-04T20:05:09.513049Z"
    }
   },
   "outputs": [
    {
     "name": "stdout",
     "output_type": "stream",
     "text": [
      "[(88, 0), (10, 64), (7, 63), (3, 62), (5, 61), (24, 60), (87, 59), (31, 58), (30, 57), (19, 65), (14, 56), (48, 54), (50, 53), (45, 52), (4, 51), (89, 50), (17, 49), (84, 48), (8, 47), (29, 55), (9, 66), (79, 67), (57, 68), (51, 87), (58, 86), (68, 85), (18, 84), (12, 83), (55, 82), (20, 81), (64, 80), (59, 79), (69, 78), (46, 77), (26, 76), (0, 75), (80, 74), (72, 73), (27, 72), (13, 71), (47, 70), (40, 69), (52, 46), (16, 45), (28, 44), (36, 43), (37, 19), (32, 18), (54, 17), (73, 16), (83, 15), (78, 14), (77, 13), (23, 12), (15, 11), (38, 10), (41, 9), (33, 8), (6, 7), (71, 6), (25, 5), (60, 4), (42, 3), (74, 2), (82, 1), (43, 20), (22, 88), (61, 21), (2, 23), (65, 42), (85, 41), (63, 40), (81, 39), (49, 38), (53, 37), (56, 36), (1, 35), (75, 34), (44, 33), (67, 32), (35, 31), (70, 30), (34, 29), (62, 28), (39, 27), (76, 26), (11, 25), (21, 24), (66, 22), (86, 89)]\n"
     ]
    }
   ],
   "source": [
    "products, pairs = cal_product(n, d, f, 'sum')\n",
    "print(pairs)"
   ]
  },
  {
   "cell_type": "code",
   "execution_count": 118,
   "id": "812cd242",
   "metadata": {
    "ExecuteTime": {
     "end_time": "2021-09-04T20:05:10.012761Z",
     "start_time": "2021-09-04T20:05:09.965913Z"
    }
   },
   "outputs": [
    {
     "name": "stdout",
     "output_type": "stream",
     "text": [
      "[3 2 2 2 2 2 2 2 2 2 2 2 2 2 2 2 2 2 2 2 0 0 0 0 0 0 0 0 0 0 0 0 0 0 0 0 0\n",
      " 0 0 0 0 0 0 0 0 0 0 0 0 0 0 0 0 0 0 0 0 0 0 0 1 1 1 1 1 1 1 1 1 1 1 1 1 1\n",
      " 1 1 1 1 1 1 1 1 1 1 1 1 1 4 4 4]\n",
      "[[(9, 66), (79, 67), (57, 68), (51, 87), (58, 86), (68, 85), (18, 84), (12, 83), (55, 82), (20, 81), (64, 80), (59, 79), (69, 78), (46, 77), (26, 76), (0, 75), (80, 74), (72, 73), (27, 72), (13, 71), (47, 70), (40, 69), (52, 46), (16, 45), (28, 44), (36, 43), (37, 19), (32, 18), (54, 17), (73, 16), (83, 15), (78, 14), (77, 13), (23, 12), (15, 11), (38, 10), (41, 9), (33, 8), (6, 7), (71, 6)], [(25, 5), (60, 4), (42, 3), (74, 2), (82, 1), (43, 20), (22, 88), (61, 21), (2, 23), (65, 42), (85, 41), (63, 40), (81, 39), (49, 38), (53, 37), (56, 36), (1, 35), (75, 34), (44, 33), (67, 32), (35, 31), (70, 30), (34, 29), (62, 28), (39, 27), (76, 26), (11, 25)], [(10, 64), (7, 63), (3, 62), (5, 61), (24, 60), (87, 59), (31, 58), (30, 57), (19, 65), (14, 56), (48, 54), (50, 53), (45, 52), (4, 51), (89, 50), (17, 49), (84, 48), (8, 47), (29, 55)], [(88, 0)], [(21, 24), (66, 22), (86, 89)]]\n"
     ]
    }
   ],
   "source": [
    "clusters = create_cluster(n, d, f, 'sum', 5)\n",
    "print(clusters)"
   ]
  },
  {
   "cell_type": "code",
   "execution_count": 120,
   "id": "ea721e96",
   "metadata": {
    "ExecuteTime": {
     "end_time": "2021-09-04T20:05:26.164665Z",
     "start_time": "2021-09-04T20:05:26.154903Z"
    }
   },
   "outputs": [
    {
     "name": "stdout",
     "output_type": "stream",
     "text": [
      "[4 1 1 1 1 1 1 1 1 1 1 1 1 1 1 1 1 1 1 1 2 2 2 2 2 2 2 2 2 2 2 2 2 2 2 2 2\n",
      " 2 2 2 2 2 2 2 2 2 2 2 2 2 2 0 0 0 0 0 0 0 0 0 0 0 0 0 0 0 0 0 0 0 0 0 0 0\n",
      " 0 0 0 0 0 0 0 0 0 0 0 0 0 3 3 3]\n",
      "[[(78, 14), (77, 13), (23, 12), (15, 11), (38, 10), (41, 9), (33, 8), (6, 7), (71, 6), (25, 5), (60, 4), (42, 3), (74, 2), (82, 1), (43, 20), (22, 88), (61, 21), (2, 23), (65, 42), (85, 41), (63, 40), (81, 39), (49, 38), (53, 37), (56, 36), (1, 35), (75, 34), (44, 33), (67, 32), (35, 31), (70, 30), (34, 29), (62, 28), (39, 27), (76, 26), (11, 25)], [(10, 64), (7, 63), (3, 62), (5, 61), (24, 60), (87, 59), (31, 58), (30, 57), (19, 65), (14, 56), (48, 54), (50, 53), (45, 52), (4, 51), (89, 50), (17, 49), (84, 48), (8, 47), (29, 55)], [(9, 66), (79, 67), (57, 68), (51, 87), (58, 86), (68, 85), (18, 84), (12, 83), (55, 82), (20, 81), (64, 80), (59, 79), (69, 78), (46, 77), (26, 76), (0, 75), (80, 74), (72, 73), (27, 72), (13, 71), (47, 70), (40, 69), (52, 46), (16, 45), (28, 44), (36, 43), (37, 19), (32, 18), (54, 17), (73, 16), (83, 15)], [(21, 24), (66, 22), (86, 89)], [(88, 0)]]\n"
     ]
    }
   ],
   "source": [
    "clusters = create_cluster(n, d, f, 'sum', 5)\n",
    "print(clusters)"
   ]
  },
  {
   "cell_type": "markdown",
   "id": "d66e870c",
   "metadata": {},
   "source": [
    "# multi-d clustering"
   ]
  },
  {
   "cell_type": "code",
   "execution_count": 107,
   "id": "13ef7e30",
   "metadata": {
    "ExecuteTime": {
     "end_time": "2021-09-04T20:02:22.788795Z",
     "start_time": "2021-09-04T20:02:22.774187Z"
    }
   },
   "outputs": [],
   "source": [
    "def cal_product_(n, d, f, sta):\n",
    "    if sta == 'mean':\n",
    "        f_m = [np.mean(f[i]) for i in range(n)]\n",
    "        d_m = [np.mean(d[i]) for i in range(n)]\n",
    "    elif sta == 'median':\n",
    "        f_m = [np.median(f[i]) for i in range(n)]\n",
    "        d_m = [np.median(d[i]) for i in range(n)]\n",
    "    else:\n",
    "        f_m = [np.sum(f[i]) for i in range(n)]\n",
    "        d_m = [np.sum(d[i]) for i in range(n)]\n",
    "    f_order = list(np.argsort(f_m))[::-1]\n",
    "    d_order = np.argsort(d_m)\n",
    "    products = []\n",
    "    pairs = []\n",
    "    for i in range(n):\n",
    "        products.append(f_m[f_order[i]] * d_m[d_order[i]])\n",
    "        pairs.append((f_order[i], d_order[i]))\n",
    "    f_std = [np.std(f[i]) for i in range(n)]\n",
    "    d_std = [np.std(d[i]) for i in range(n)]\n",
    "    f_median = [np.median(f[i]) for i in range(n)]\n",
    "    d_median = [np.median(d[i]) for i in range(n)]\n",
    "    return np.array(f_std)[f_order], np.array(d_std)[d_order], np.array(f_median)[f_order], np.array(d_median)[d_order], products, pairs\n",
    "    \n",
    "def create_cluster_(n, d, f, sta, n_clusters):\n",
    "    f_std, d_std, f_median, d_median, products, pairs = cal_product_(n, d, f, sta)\n",
    "    X = np.array([f_std, d_std, f_median, d_median, products]).reshape(5, n).T\n",
    "    scaler = preprocessing.StandardScaler().fit(X)\n",
    "    X_scaled = scaler.transform(X)\n",
    "#     clustering = KMeans(n_clusters=n_clusters, random_state=0).fit(X_scaled)\n",
    "    clustering = AgglomerativeClustering(n_clusters=n_clusters).fit(X_scaled)\n",
    "    labels = clustering.labels_\n",
    "    print(labels)\n",
    "    clusters = []\n",
    "    for i in range(n_clusters):\n",
    "        index = np.where(labels==i)[0].tolist()\n",
    "        if len(index) > 40:\n",
    "            # k = len(index) // 30\n",
    "            k = math.ceil(len(index) / 30)\n",
    "            for j in range(k):\n",
    "                if j != k - 1:\n",
    "                    sub_index = index[j*30:(j+1)*30]\n",
    "                    clusters.append([pairs[x] for x in sub_index])\n",
    "                else:\n",
    "                    sub_index = index[j*30:]\n",
    "                    clusters.append([pairs[x] for x in sub_index])\n",
    "        else:\n",
    "            clusters.append([pairs[x] for x in index])\n",
    "    return clusters"
   ]
  },
  {
   "cell_type": "code",
   "execution_count": 105,
   "id": "7c8b626a",
   "metadata": {
    "ExecuteTime": {
     "end_time": "2021-09-04T20:02:00.319683Z",
     "start_time": "2021-09-04T20:02:00.298211Z"
    }
   },
   "outputs": [
    {
     "name": "stdout",
     "output_type": "stream",
     "text": [
      "[418478, 399076, 389553, 388574, 387061, 387061, 384925, 384035, 382166, 380831, 380297, 378695, 378606, 378517, 378250, 376203, 376203, 375402, 375224, 374779, 372554, 372287, 370685, 370418, 369973, 369528, 368549, 368460, 368371, 368193, 368104, 368015, 368015, 367570, 367481, 366502, 366324, 366146, 365968, 365879, 365701, 365256, 365078, 364989, 364900, 364277, 363387, 362942, 361696, 360984, 360806, 359738, 359738, 359649, 359382, 359115, 358670, 358403, 358314, 358047, 356890, 356178, 356000, 355555, 354665, 354220, 353508, 353063, 352351, 352351, 352173, 351995, 351283, 350571, 349325, 349236, 348880, 348613, 346833, 346388, 346121, 345854, 345765, 345676, 344341, 343184, 340247, 332682, 328232, 320222]\n"
     ]
    }
   ],
   "source": [
    "f_std, d_std, f_median, d_median, products, pairs = cal_product_(n, d, f, 'sum')\n",
    "print(products)"
   ]
  },
  {
   "cell_type": "code",
   "execution_count": 106,
   "id": "d28badab",
   "metadata": {
    "ExecuteTime": {
     "end_time": "2021-09-04T20:02:00.736441Z",
     "start_time": "2021-09-04T20:02:00.653500Z"
    }
   },
   "outputs": [
    {
     "name": "stdout",
     "output_type": "stream",
     "text": [
      "[4 4 4 4 1 4 4 4 4 2 2 4 4 4 2 1 2 1 2 2 2 2 1 1 2 2 2 1 1 2 2 2 1 2 1 2 1\n",
      " 2 2 2 1 1 2 2 2 1 1 2 2 1 1 2 2 1 1 2 1 2 2 1 1 1 1 1 0 2 2 0 1 3 0 1 0 1\n",
      " 0 0 0 0 0 0 1 0 0 0 0 0 0 0 0 0]\n",
      "[[(82, 1), (61, 21), (85, 41), (81, 39), (53, 37), (56, 36), (1, 35), (75, 34), (44, 33), (67, 32), (70, 30), (34, 29), (62, 28), (39, 27), (76, 26), (11, 25), (21, 24), (66, 22), (86, 89)], [(5, 61), (89, 50), (84, 48), (57, 68), (51, 87), (12, 83), (55, 82), (69, 78), (26, 76), (80, 74), (47, 70), (40, 69), (36, 43), (37, 19), (73, 16), (83, 15), (23, 12), (15, 11), (41, 9), (71, 6), (25, 5), (60, 4), (42, 3), (74, 2), (2, 23), (63, 40), (49, 38), (35, 31)], [(19, 65), (14, 56), (4, 51), (17, 49), (8, 47), (29, 55), (9, 66), (79, 67), (58, 86), (68, 85), (18, 84), (20, 81), (64, 80), (59, 79), (46, 77), (0, 75), (72, 73), (27, 72), (13, 71), (52, 46), (16, 45), (28, 44), (32, 18), (54, 17), (78, 14), (77, 13), (38, 10), (33, 8), (6, 7), (43, 20), (22, 88)], [(65, 42)], [(88, 0), (10, 64), (7, 63), (3, 62), (24, 60), (87, 59), (31, 58), (30, 57), (48, 54), (50, 53), (45, 52)]]\n"
     ]
    }
   ],
   "source": [
    "clusters = create_cluster_(n, d, f, 'sum', 5)\n",
    "print(clusters)"
   ]
  },
  {
   "cell_type": "code",
   "execution_count": 108,
   "id": "40131aa7",
   "metadata": {
    "ExecuteTime": {
     "end_time": "2021-09-04T20:02:24.612793Z",
     "start_time": "2021-09-04T20:02:24.552280Z"
    }
   },
   "outputs": [
    {
     "name": "stdout",
     "output_type": "stream",
     "text": [
      "[418478, 399076, 389553, 388574, 387061, 387061, 384925, 384035, 382166, 380831, 380297, 378695, 378606, 378517, 378250, 376203, 376203, 375402, 375224, 374779, 372554, 372287, 370685, 370418, 369973, 369528, 368549, 368460, 368371, 368193, 368104, 368015, 368015, 367570, 367481, 366502, 366324, 366146, 365968, 365879, 365701, 365256, 365078, 364989, 364900, 364277, 363387, 362942, 361696, 360984, 360806, 359738, 359738, 359649, 359382, 359115, 358670, 358403, 358314, 358047, 356890, 356178, 356000, 355555, 354665, 354220, 353508, 353063, 352351, 352351, 352173, 351995, 351283, 350571, 349325, 349236, 348880, 348613, 346833, 346388, 346121, 345854, 345765, 345676, 344341, 343184, 340247, 332682, 328232, 320222]\n",
      "[2 2 2 2 0 2 2 2 2 4 0 4 2 2 4 0 4 0 4 4 4 4 0 0 0 4 4 0 0 4 4 4 0 4 0 4 0\n",
      " 4 4 4 0 0 4 4 4 0 0 4 4 0 0 4 4 0 0 4 0 4 4 0 0 0 0 0 1 4 4 1 0 3 1 0 1 0\n",
      " 0 1 1 0 1 0 0 1 0 1 1 0 0 0 1 1]\n",
      "[[(5, 61), (14, 56), (89, 50), (84, 48), (57, 68), (51, 87), (58, 86), (12, 83), (55, 82), (69, 78), (26, 76), (80, 74), (47, 70), (40, 69), (36, 43), (37, 19), (73, 16), (83, 15), (23, 12), (15, 11), (41, 9), (71, 6), (25, 5), (60, 4), (42, 3), (74, 2), (2, 23), (63, 40), (49, 38), (53, 37), (75, 34), (67, 32), (35, 31), (34, 29), (76, 26), (11, 25), (21, 24)], [(82, 1), (61, 21), (85, 41), (81, 39), (56, 36), (1, 35), (44, 33), (70, 30), (62, 28), (39, 27), (66, 22), (86, 89)], [(88, 0), (10, 64), (7, 63), (3, 62), (24, 60), (87, 59), (31, 58), (30, 57), (50, 53), (45, 52)], [(65, 42)], [(19, 65), (48, 54), (4, 51), (17, 49), (8, 47), (29, 55), (9, 66), (79, 67), (68, 85), (18, 84), (20, 81), (64, 80), (59, 79), (46, 77), (0, 75), (72, 73), (27, 72), (13, 71), (52, 46), (16, 45), (28, 44), (32, 18), (54, 17), (78, 14), (77, 13), (38, 10), (33, 8), (6, 7), (43, 20), (22, 88)]]\n"
     ]
    }
   ],
   "source": [
    "f_std, d_std, f_median, d_median, products, pairs = cal_product_(n, d, f, 'sum')\n",
    "print(products)\n",
    "clusters = create_cluster_(n, d, f, 'sum', 5)\n",
    "print(clusters)"
   ]
  }
 ],
 "metadata": {
  "kernelspec": {
   "display_name": "Python 3 (ipykernel)",
   "language": "python",
   "name": "python3"
  },
  "language_info": {
   "codemirror_mode": {
    "name": "ipython",
    "version": 3
   },
   "file_extension": ".py",
   "mimetype": "text/x-python",
   "name": "python",
   "nbconvert_exporter": "python",
   "pygments_lexer": "ipython3",
   "version": "3.7.11"
  },
  "toc": {
   "base_numbering": 1,
   "nav_menu": {},
   "number_sections": true,
   "sideBar": true,
   "skip_h1_title": false,
   "title_cell": "Table of Contents",
   "title_sidebar": "Contents",
   "toc_cell": false,
   "toc_position": {},
   "toc_section_display": true,
   "toc_window_display": false
  }
 },
 "nbformat": 4,
 "nbformat_minor": 5
}
